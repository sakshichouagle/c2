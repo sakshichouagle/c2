{
  "metadata": {
    "language_info": {
      "codemirror_mode": {
        "name": "python",
        "version": 3
      },
      "file_extension": ".py",
      "mimetype": "text/x-python",
      "name": "python",
      "nbconvert_exporter": "python",
      "pygments_lexer": "ipython3",
      "version": "3.8"
    },
    "kernelspec": {
      "name": "python",
      "display_name": "Pyolite",
      "language": "python"
    }
  },
  "nbformat_minor": 4,
  "nbformat": 4,
  "cells": [
    {
      "cell_type": "markdown",
      "source": "# Execute it as a markdown cell\n# H1: This is a level 1 Heading\n## H2: This is a level 2 Heading\n### H3: This is a level 3 Heading\n#### H4: This is a level 4 Heading\n##### H5: This is a level 5 Heading\n###### H6: This is a level 6 Heading",
      "metadata": {}
    },
    {
      "cell_type": "markdown",
      "source": "# h1:data science tools and ecosystem",
      "metadata": {}
    },
    {
      "cell_type": "markdown",
      "source": "# in this notebook ,coding is available ",
      "metadata": {}
    },
    {
      "cell_type": "markdown",
      "source": "some of pouplar languages\n\n1. R\n2. python\n3. SQL\n\n",
      "metadata": {}
    },
    {
      "cell_type": "markdown",
      "source": "| data science tools |\n|",
      "metadata": {}
    },
    {
      "cell_type": "markdown",
      "source": "| data science tools |\n| ------------------- |\n|  commercial  |\n|    abs       |\n",
      "metadata": {}
    },
    {
      "cell_type": "code",
      "source": "(3*4)+5",
      "metadata": {
        "trusted": true
      },
      "execution_count": 1,
      "outputs": [
        {
          "execution_count": 1,
          "output_type": "execute_result",
          "data": {
            "text/plain": "17"
          },
          "metadata": {}
        }
      ]
    },
    {
      "cell_type": "code",
      "source": "",
      "metadata": {},
      "execution_count": null,
      "outputs": []
    }
  ]
}